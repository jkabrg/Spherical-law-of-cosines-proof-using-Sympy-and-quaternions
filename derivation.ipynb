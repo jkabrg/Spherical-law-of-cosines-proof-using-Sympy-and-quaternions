{
 "cells": [
  {
   "cell_type": "markdown",
   "metadata": {},
   "source": [
    "# Derivation of spherical law of cosines using Sympy and quaternions"
   ]
  },
  {
   "cell_type": "markdown",
   "metadata": {},
   "source": [
    "## Approach\n",
    "\n",
    "The philosophy is that you can treat trigonometry as a triangle construction problem. You give me the specs of a triangle, and I can use physical tools like compasses, protractors and rulers to construct your triangle. This is similar to using trigonometry, except without any algebra involved, just construction tools. You can also use this philosophy to derive the algebraic formulas. When it came to formula derivation, I used the quaternions to simulate the physical construction, and I got out the formulas. "
   ]
  },
  {
   "cell_type": "markdown",
   "metadata": {},
   "source": [
    "## Computing $u$, $v$ and $w$"
   ]
  },
  {
   "cell_type": "markdown",
   "metadata": {},
   "source": [
    "![Diagram with u, v and w on Wikipedia](https://upload.wikimedia.org/wikipedia/commons/thumb/3/38/Law-of-haversines.svg/330px-Law-of-haversines.svg.png)"
   ]
  },
  {
   "cell_type": "code",
   "execution_count": 1,
   "metadata": {},
   "outputs": [],
   "source": [
    "import sympy\n",
    "from sympy import *"
   ]
  },
  {
   "cell_type": "markdown",
   "metadata": {},
   "source": [
    "Model quaternions as 4x4 matrices"
   ]
  },
  {
   "cell_type": "code",
   "execution_count": 2,
   "metadata": {},
   "outputs": [],
   "source": [
    "unit = Matrix([[1,0,0,0],[0,1,0,0],[0,0,1,0],[0,0,0,1]])\n",
    "i = Matrix([[0,1,0,0],[-1,0,0,0],[0,0,0,1],[0,0,-1,0]]).T\n",
    "j = Matrix([[0,0,1,0],[0,0,0,-1],[-1,0,0,0],[0,1,0,0]]).T\n",
    "k = i*j"
   ]
  },
  {
   "cell_type": "markdown",
   "metadata": {},
   "source": [
    "Define $w$"
   ]
  },
  {
   "cell_type": "code",
   "execution_count": 3,
   "metadata": {},
   "outputs": [],
   "source": [
    "A = symbols('A')\n",
    "w = cos(A) * i + sin(A) * j"
   ]
  },
  {
   "cell_type": "markdown",
   "metadata": {},
   "source": [
    "Define rotation operator that maps $w$ to $u$"
   ]
  },
  {
   "cell_type": "code",
   "execution_count": 4,
   "metadata": {},
   "outputs": [],
   "source": [
    "axis_of_rot_from_w_to_u = k\n",
    "b = symbols('b')\n",
    "rot_from_w_to_u = cos(b/2) * unit + axis_of_rot_from_w_to_u*sin(b/2)"
   ]
  },
  {
   "cell_type": "markdown",
   "metadata": {},
   "source": [
    "Apply rotation operator to get $u$"
   ]
  },
  {
   "cell_type": "code",
   "execution_count": 5,
   "metadata": {},
   "outputs": [
    {
     "data": {
      "text/plain": [
       "Matrix([\n",
       "[         0, -cos(A - b), -sin(A - b),           0],\n",
       "[cos(A - b),           0,           0,  sin(A - b)],\n",
       "[sin(A - b),           0,           0, -cos(A - b)],\n",
       "[         0, -sin(A - b),  cos(A - b),           0]])"
      ]
     },
     "execution_count": 5,
     "metadata": {},
     "output_type": "execute_result"
    }
   ],
   "source": [
    "u = rot_from_w_to_u.adjugate() * w * rot_from_w_to_u\n",
    "u.simplify()\n",
    "u"
   ]
  },
  {
   "cell_type": "markdown",
   "metadata": {},
   "source": [
    "Rotate the rotation axis of $WU$ by angle C around $u$ to get the rotation axis of $UV$"
   ]
  },
  {
   "cell_type": "code",
   "execution_count": 6,
   "metadata": {},
   "outputs": [
    {
     "data": {
      "text/plain": [
       "Matrix([\n",
       "[                                    0,  cos(-A + C + b)/2 - cos(A + C - b)/2, -sin(-A + C + b)/2 - sin(A + C - b)/2,                              -cos(C)],\n",
       "[-cos(-A + C + b)/2 + cos(A + C - b)/2,                                     0,                               -cos(C), sin(-A + C + b)/2 + sin(A + C - b)/2],\n",
       "[ sin(-A + C + b)/2 + sin(A + C - b)/2,                                cos(C),                                     0, cos(-A + C + b)/2 - cos(A + C - b)/2],\n",
       "[                               cos(C), -sin(-A + C + b)/2 - sin(A + C - b)/2, -cos(-A + C + b)/2 + cos(A + C - b)/2,                                    0]])"
      ]
     },
     "execution_count": 6,
     "metadata": {},
     "output_type": "execute_result"
    }
   ],
   "source": [
    "C = symbols('C')\n",
    "axis_of_rot_from_u_to_v = (cos(C/2) * unit - sin(C/2) * u) * axis_of_rot_from_w_to_u * (cos(C/2) * unit + sin(C/2) * u)\n",
    "axis_of_rot_from_u_to_v.simplify()\n",
    "axis_of_rot_from_u_to_v"
   ]
  },
  {
   "cell_type": "markdown",
   "metadata": {},
   "source": [
    "Define rotation operator that maps $u$ to $v$"
   ]
  },
  {
   "cell_type": "code",
   "execution_count": 7,
   "metadata": {},
   "outputs": [
    {
     "data": {
      "text/plain": [
       "1"
      ]
     },
     "execution_count": 7,
     "metadata": {},
     "output_type": "execute_result"
    }
   ],
   "source": [
    "a = symbols('a')\n",
    "rot_from_u_to_v = cos(a/2) * unit + axis_of_rot_from_u_to_v * sin(a/2)\n",
    "rot_from_u_to_v.simplify()\n",
    "# Compute determinant to check if it's 1\n",
    "det(rot_from_u_to_v).simplify()"
   ]
  },
  {
   "cell_type": "markdown",
   "metadata": {},
   "source": [
    "Apply rotation operator to get $v$"
   ]
  },
  {
   "cell_type": "code",
   "execution_count": 8,
   "metadata": {},
   "outputs": [
    {
     "data": {
      "text/plain": [
       "Matrix([\n",
       "[                                            0],\n",
       "[ sin(a)*sin(A - b)*cos(C) + cos(a)*cos(A - b)],\n",
       "[-sin(a)*cos(C)*cos(A - b) + sin(A - b)*cos(a)],\n",
       "[                  cos(C - a)/2 - cos(C + a)/2]])"
      ]
     },
     "execution_count": 8,
     "metadata": {},
     "output_type": "execute_result"
    }
   ],
   "source": [
    "v = rot_from_u_to_v.adjugate() * u * rot_from_u_to_v\n",
    "v.simplify()\n",
    "v[:,0]"
   ]
  },
  {
   "cell_type": "markdown",
   "metadata": {},
   "source": [
    "## Analysing sides of triangle (**proving the law of cosines**)"
   ]
  },
  {
   "cell_type": "markdown",
   "metadata": {},
   "source": [
    "Notice below that $\\cos(c) = -\\sin(a) \\sin(b) \\cos(C) + \\cos(a) \\cos(b)$. **This proves the law of cosines**"
   ]
  },
  {
   "cell_type": "code",
   "execution_count": 9,
   "metadata": {},
   "outputs": [
    {
     "data": {
      "text/plain": [
       "Matrix([\n",
       "[-sin(a)*sin(b)*cos(C) + cos(a)*cos(b)],\n",
       "[                 sin(A)*sin(C)*sin(a)],\n",
       "[                -sin(C)*sin(a)*cos(A)],\n",
       "[-sin(a)*cos(C)*cos(b) - sin(b)*cos(a)]])"
      ]
     },
     "execution_count": 9,
     "metadata": {},
     "output_type": "execute_result"
    }
   ],
   "source": [
    "wv_side = v * w.adjugate()\n",
    "wv_side.simplify()\n",
    "wv_side[:,0]"
   ]
  },
  {
   "cell_type": "markdown",
   "metadata": {},
   "source": [
    "## Analysing angles between sides"
   ]
  },
  {
   "cell_type": "markdown",
   "metadata": {},
   "source": [
    "Observe that $\\cos A = \\frac{1}{4}(2\\cos(a - 2b) + 2\\cos(a + 2b) + \\cos(-C + a + 2b) - \\cos(C - a + 2b) - \\cos(C + a - 2b) + \\cos(C + a + 2b))$"
   ]
  },
  {
   "cell_type": "code",
   "execution_count": 10,
   "metadata": {},
   "outputs": [
    {
     "data": {
      "text/plain": [
       "Matrix([\n",
       "[ cos(a - 2*b)/2 + cos(a + 2*b)/2 + cos(-C + a + 2*b)/4 - cos(C - a + 2*b)/4 - cos(C + a - 2*b)/4 + cos(C + a + 2*b)/4],\n",
       "[                                                                                            -sin(C)*sin(a)*sin(A + b)],\n",
       "[                                                                                             sin(C)*sin(a)*cos(A + b)],\n",
       "[-sin(a - 2*b)/2 + sin(a + 2*b)/2 + sin(-C + a + 2*b)/4 - sin(C - a + 2*b)/4 + sin(C + a - 2*b)/4 + sin(C + a + 2*b)/4]])"
      ]
     },
     "execution_count": 10,
     "metadata": {},
     "output_type": "execute_result"
    }
   ],
   "source": [
    "wu_side = w * u.adjugate()\n",
    "wu_side.simplify()\n",
    "\n",
    "rotation_from_wu_to_wv = wu_side * wv_side.adjugate()\n",
    "rotation_from_wu_to_wv.simplify()\n",
    "rotation_from_wu_to_wv[:,0]"
   ]
  },
  {
   "cell_type": "markdown",
   "metadata": {},
   "source": [
    "Which we can make Sympy express as $\\cos A = -\\sin(a)\\sin(2b)\\cos(C) + \\cos(a)\\cos(2b)$"
   ]
  },
  {
   "cell_type": "code",
   "execution_count": 11,
   "metadata": {},
   "outputs": [
    {
     "data": {
      "text/plain": [
       "-sin(a)*sin(2*b)*cos(C) + cos(a)*cos(2*b)"
      ]
     },
     "execution_count": 11,
     "metadata": {},
     "output_type": "execute_result"
    }
   ],
   "source": [
    "rotation_from_wu_to_wv[0,0].rewrite(exp).simplify().expand().rewrite(cos).expand()"
   ]
  }
 ],
 "metadata": {
  "kernelspec": {
   "display_name": "Python 3",
   "language": "python",
   "name": "python3"
  },
  "language_info": {
   "codemirror_mode": {
    "name": "ipython",
    "version": 3
   },
   "file_extension": ".py",
   "mimetype": "text/x-python",
   "name": "python",
   "nbconvert_exporter": "python",
   "pygments_lexer": "ipython3",
   "version": "3.6.5"
  }
 },
 "nbformat": 4,
 "nbformat_minor": 2
}
